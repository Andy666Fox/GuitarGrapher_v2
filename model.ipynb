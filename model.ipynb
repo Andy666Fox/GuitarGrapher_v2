{
 "cells": [
  {
   "cell_type": "markdown",
   "metadata": {},
   "source": [
    "# Imports"
   ]
  },
  {
   "cell_type": "code",
   "execution_count": 1,
   "metadata": {},
   "outputs": [],
   "source": [
    "import numpy as np\n",
    "import pandas as pd\n",
    "import librosa as lb\n",
    "import matplotlib.pyplot as plt\n",
    "from tensorflow.keras import Sequential, layers\n",
    "from tensorflow.keras.utils import to_categorical\n",
    "from sklearn.model_selection import train_test_split\n",
    "from sklearn.metrics import confusion_matrix, classification_report\n",
    "from tqdm import tqdm"
   ]
  },
  {
   "cell_type": "markdown",
   "metadata": {},
   "source": [
    "# READ THE DATA"
   ]
  },
  {
   "cell_type": "code",
   "execution_count": 6,
   "metadata": {},
   "outputs": [
    {
     "name": "stdout",
     "output_type": "stream",
     "text": [
      "Samples num: 234\n",
      "Columns num: 3\n"
     ]
    },
    {
     "data": {
      "text/html": [
       "<div>\n",
       "<style scoped>\n",
       "    .dataframe tbody tr th:only-of-type {\n",
       "        vertical-align: middle;\n",
       "    }\n",
       "\n",
       "    .dataframe tbody tr th {\n",
       "        vertical-align: top;\n",
       "    }\n",
       "\n",
       "    .dataframe thead th {\n",
       "        text-align: right;\n",
       "    }\n",
       "</style>\n",
       "<table border=\"1\" class=\"dataframe\">\n",
       "  <thead>\n",
       "    <tr style=\"text-align: right;\">\n",
       "      <th></th>\n",
       "      <th>Sample</th>\n",
       "      <th>Class_ID</th>\n",
       "      <th>Class</th>\n",
       "    </tr>\n",
       "  </thead>\n",
       "  <tbody>\n",
       "    <tr>\n",
       "      <th>0</th>\n",
       "      <td>./input/notes_v2/A/A1.wav</td>\n",
       "      <td>1</td>\n",
       "      <td>A</td>\n",
       "    </tr>\n",
       "    <tr>\n",
       "      <th>1</th>\n",
       "      <td>./input/notes_v2/A/A1.wav_000.wav</td>\n",
       "      <td>1</td>\n",
       "      <td>A</td>\n",
       "    </tr>\n",
       "    <tr>\n",
       "      <th>2</th>\n",
       "      <td>./input/notes_v2/A/A1.wav_010.wav</td>\n",
       "      <td>1</td>\n",
       "      <td>A</td>\n",
       "    </tr>\n",
       "    <tr>\n",
       "      <th>3</th>\n",
       "      <td>./input/notes_v2/A/A2.wav</td>\n",
       "      <td>1</td>\n",
       "      <td>A</td>\n",
       "    </tr>\n",
       "    <tr>\n",
       "      <th>4</th>\n",
       "      <td>./input/notes_v2/A/A2.wav_001.wav</td>\n",
       "      <td>1</td>\n",
       "      <td>A</td>\n",
       "    </tr>\n",
       "  </tbody>\n",
       "</table>\n",
       "</div>"
      ],
      "text/plain": [
       "                              Sample  Class_ID Class\n",
       "0          ./input/notes_v2/A/A1.wav         1     A\n",
       "1  ./input/notes_v2/A/A1.wav_000.wav         1     A\n",
       "2  ./input/notes_v2/A/A1.wav_010.wav         1     A\n",
       "3          ./input/notes_v2/A/A2.wav         1     A\n",
       "4  ./input/notes_v2/A/A2.wav_001.wav         1     A"
      ]
     },
     "execution_count": 6,
     "metadata": {},
     "output_type": "execute_result"
    }
   ],
   "source": [
    "metadata = pd.read_csv('./input/notes_v2/n_metadata.csv')\n",
    "print(f'Samples: {metadata.shape[0]}\\nColumns: {metadata.shape[1]}')\n",
    "metadata.head()"
   ]
  },
  {
   "cell_type": "markdown",
   "metadata": {},
   "source": [
    "# Getting information about classes"
   ]
  },
  {
   "cell_type": "code",
   "execution_count": 7,
   "metadata": {},
   "outputs": [
    {
     "data": {
      "text/plain": [
       "Class_ID\n",
       "1           [A]\n",
       "2           [B]\n",
       "3           [C]\n",
       "4           [D]\n",
       "5           [E]\n",
       "6           [F]\n",
       "7           [G]\n",
       "8      [Barrel]\n",
       "9       [Flage]\n",
       "10    [PoffHon]\n",
       "11       [Slap]\n",
       "12      [Slide]\n",
       "13    [Silence]\n",
       "Name: Class, dtype: object"
      ]
     },
     "execution_count": 7,
     "metadata": {},
     "output_type": "execute_result"
    }
   ],
   "source": [
    "classes = metadata.groupby('Class_ID')['Class'].unique()\n",
    "classes"
   ]
  },
  {
   "cell_type": "markdown",
   "metadata": {},
   "source": [
    "# CREATING A FUNCTION TO EXTRACT DATA FROM SAMPLES"
   ]
  },
  {
   "cell_type": "code",
   "execution_count": 8,
   "metadata": {},
   "outputs": [],
   "source": [
    "def feature_exctractor(path: str) -> np.array:\n",
    "    data, _ = lb.load(path)\n",
    "    data = lb.feature.mfcc(data, n_mfcc=128)\n",
    "    data= np.mean(data, axis=1)\n",
    "\n",
    "    return data"
   ]
  },
  {
   "cell_type": "markdown",
   "metadata": {},
   "source": [
    "# DATA EXTRACTION"
   ]
  },
  {
   "cell_type": "code",
   "execution_count": null,
   "metadata": {},
   "outputs": [],
   "source": [
    "x, y = [], []\n",
    "\n",
    "for i, rows in tqdm(metadata.iterrows()):\n",
    "    path = rows['Sample']\n",
    "    x.append(feature_exctractor(path))\n",
    "    y.append(rows['Class_ID'])\n",
    "\n",
    "x = np.array(x)\n",
    "y = np.array(y)\n",
    "\n",
    "print(f'Features: {x.shape}\\nTarget: {y.shape}')"
   ]
  },
  {
   "cell_type": "markdown",
   "metadata": {},
   "source": [
    "# TRANSFER OF TARGET CLASSES TO CATEGORIAL TYPE"
   ]
  },
  {
   "cell_type": "code",
   "execution_count": 10,
   "metadata": {},
   "outputs": [
    {
     "data": {
      "text/plain": [
       "(234, 14)"
      ]
     },
     "execution_count": 10,
     "metadata": {},
     "output_type": "execute_result"
    }
   ],
   "source": [
    "y = to_categorical(y)\n",
    "y.shape"
   ]
  },
  {
   "cell_type": "markdown",
   "metadata": {},
   "source": [
    "# SPLITTING INTO TRAINING / TEST / VALIDATION DATA"
   ]
  },
  {
   "cell_type": "code",
   "execution_count": 11,
   "metadata": {},
   "outputs": [
    {
     "name": "stdout",
     "output_type": "stream",
     "text": [
      "\n",
      "Number of samples for Train set : 168\n",
      "Number of samples for Validation set : 42\n",
      "Number of samples for Test set : 24\n"
     ]
    }
   ],
   "source": [
    "xtrainval, xtest, ytrainval, ytest = train_test_split(x, y, test_size=0.1, stratify=y, random_state=42)\n",
    "xtrain, xvalid, ytrain, yvalid = train_test_split(xtrainval, ytrainval, test_size=0.2, stratify=ytrainval,random_state=42)\n",
    "\n",
    "print('\\nNumber of samples for Train set :',xtrain.shape[0])\n",
    "print('Number of samples for Validation set :',xvalid.shape[0])\n",
    "print('Number of samples for Test set :',xtest.shape[0])"
   ]
  },
  {
   "cell_type": "markdown",
   "metadata": {},
   "source": [
    "# MODEL ARCHITECTURE"
   ]
  },
  {
   "cell_type": "code",
   "execution_count": 12,
   "metadata": {},
   "outputs": [
    {
     "name": "stdout",
     "output_type": "stream",
     "text": [
      "Model: \"sequential\"\n",
      "_________________________________________________________________\n",
      " Layer (type)                Output Shape              Param #   \n",
      "=================================================================\n",
      " dense (Dense)               (None, 1000)              129000    \n",
      "                                                                 \n",
      " dense_1 (Dense)             (None, 750)               750750    \n",
      "                                                                 \n",
      " dense_2 (Dense)             (None, 500)               375500    \n",
      "                                                                 \n",
      " dense_3 (Dense)             (None, 250)               125250    \n",
      "                                                                 \n",
      " dense_4 (Dense)             (None, 100)               25100     \n",
      "                                                                 \n",
      " dense_5 (Dense)             (None, 50)                5050      \n",
      "                                                                 \n",
      " dense_6 (Dense)             (None, 14)                714       \n",
      "                                                                 \n",
      "=================================================================\n",
      "Total params: 1,411,364\n",
      "Trainable params: 1,411,364\n",
      "Non-trainable params: 0\n",
      "_________________________________________________________________\n"
     ]
    }
   ],
   "source": [
    "model = Sequential(\n",
    "    [\n",
    "        layers.Dense(1000, activation='relu', input_shape=(128,)),\n",
    "        layers.Dense(750, activation='relu'),\n",
    "        layers.Dense(500, activation='relu'),\n",
    "        layers.Dense(250, activation='relu'),\n",
    "        layers.Dense(100, activation='relu'),\n",
    "        layers.Dense(50, activation='relu'),\n",
    "        layers.Dense(14, activation='softmax')\n",
    "    ]\n",
    ")\n",
    "\n",
    "model.summary()"
   ]
  },
  {
   "cell_type": "markdown",
   "metadata": {},
   "source": [
    "# MODEL COMPILATION AND TRAINING"
   ]
  },
  {
   "cell_type": "code",
   "execution_count": 13,
   "metadata": {},
   "outputs": [
    {
     "name": "stdout",
     "output_type": "stream",
     "text": [
      "Epoch 1/20\n",
      "6/6 [==============================] - 2s 53ms/step - loss: 14.7601 - accuracy: 0.1012 - val_loss: 9.4500 - val_accuracy: 0.0714\n",
      "Epoch 2/20\n",
      "6/6 [==============================] - 0s 23ms/step - loss: 9.0730 - accuracy: 0.0714 - val_loss: 5.7194 - val_accuracy: 0.0714\n",
      "Epoch 3/20\n",
      "6/6 [==============================] - 0s 21ms/step - loss: 6.2022 - accuracy: 0.0595 - val_loss: 3.6042 - val_accuracy: 0.1190\n",
      "Epoch 4/20\n",
      "6/6 [==============================] - 0s 24ms/step - loss: 3.4670 - accuracy: 0.0714 - val_loss: 2.6473 - val_accuracy: 0.1429\n",
      "Epoch 5/20\n",
      "6/6 [==============================] - 0s 23ms/step - loss: 2.6939 - accuracy: 0.1964 - val_loss: 2.4438 - val_accuracy: 0.1429\n",
      "Epoch 6/20\n",
      "6/6 [==============================] - 0s 23ms/step - loss: 2.3717 - accuracy: 0.1429 - val_loss: 2.1462 - val_accuracy: 0.4048\n",
      "Epoch 7/20\n",
      "6/6 [==============================] - 0s 27ms/step - loss: 2.0733 - accuracy: 0.3810 - val_loss: 1.8103 - val_accuracy: 0.5000\n",
      "Epoch 8/20\n",
      "6/6 [==============================] - 0s 23ms/step - loss: 1.7777 - accuracy: 0.3631 - val_loss: 1.6001 - val_accuracy: 0.5000\n",
      "Epoch 9/20\n",
      "6/6 [==============================] - 0s 23ms/step - loss: 1.5987 - accuracy: 0.5119 - val_loss: 1.5828 - val_accuracy: 0.4762\n",
      "Epoch 10/20\n",
      "6/6 [==============================] - 0s 23ms/step - loss: 1.3720 - accuracy: 0.6131 - val_loss: 1.3261 - val_accuracy: 0.6190\n",
      "Epoch 11/20\n",
      "6/6 [==============================] - 0s 23ms/step - loss: 1.1605 - accuracy: 0.6786 - val_loss: 1.1226 - val_accuracy: 0.6667\n",
      "Epoch 12/20\n",
      "6/6 [==============================] - 0s 22ms/step - loss: 0.9443 - accuracy: 0.7500 - val_loss: 0.9367 - val_accuracy: 0.6905\n",
      "Epoch 13/20\n",
      "6/6 [==============================] - 0s 25ms/step - loss: 0.7903 - accuracy: 0.7798 - val_loss: 0.8855 - val_accuracy: 0.7619\n",
      "Epoch 14/20\n",
      "6/6 [==============================] - 0s 27ms/step - loss: 0.6784 - accuracy: 0.8274 - val_loss: 0.8145 - val_accuracy: 0.7143\n",
      "Epoch 15/20\n",
      "6/6 [==============================] - 0s 24ms/step - loss: 0.6526 - accuracy: 0.8036 - val_loss: 0.6820 - val_accuracy: 0.7857\n",
      "Epoch 16/20\n",
      "6/6 [==============================] - 0s 26ms/step - loss: 0.4851 - accuracy: 0.8869 - val_loss: 0.5832 - val_accuracy: 0.8095\n",
      "Epoch 17/20\n",
      "6/6 [==============================] - 0s 24ms/step - loss: 0.3915 - accuracy: 0.8988 - val_loss: 0.4862 - val_accuracy: 0.8571\n",
      "Epoch 18/20\n",
      "6/6 [==============================] - 0s 24ms/step - loss: 0.3220 - accuracy: 0.9226 - val_loss: 0.3569 - val_accuracy: 0.8571\n",
      "Epoch 19/20\n",
      "6/6 [==============================] - 0s 24ms/step - loss: 0.2935 - accuracy: 0.9345 - val_loss: 0.4324 - val_accuracy: 0.8571\n",
      "Epoch 20/20\n",
      "6/6 [==============================] - 0s 28ms/step - loss: 0.2721 - accuracy: 0.9167 - val_loss: 0.4141 - val_accuracy: 0.8571\n"
     ]
    }
   ],
   "source": [
    "model.compile(loss='categorical_crossentropy', optimizer='adam', metrics=['accuracy'])\n",
    "training = model.fit(xtrain, ytrain, validation_data=(xvalid, yvalid), epochs=20)"
   ]
  },
  {
   "cell_type": "markdown",
   "metadata": {},
   "source": [
    "# VERIFICATION OF THE MODEL RESULTS"
   ]
  },
  {
   "cell_type": "code",
   "execution_count": 14,
   "metadata": {},
   "outputs": [
    {
     "data": {
      "text/html": [
       "<div>\n",
       "<style scoped>\n",
       "    .dataframe tbody tr th:only-of-type {\n",
       "        vertical-align: middle;\n",
       "    }\n",
       "\n",
       "    .dataframe tbody tr th {\n",
       "        vertical-align: top;\n",
       "    }\n",
       "\n",
       "    .dataframe thead th {\n",
       "        text-align: right;\n",
       "    }\n",
       "</style>\n",
       "<table border=\"1\" class=\"dataframe\">\n",
       "  <thead>\n",
       "    <tr style=\"text-align: right;\">\n",
       "      <th></th>\n",
       "      <th>loss</th>\n",
       "      <th>accuracy</th>\n",
       "      <th>val_loss</th>\n",
       "      <th>val_accuracy</th>\n",
       "    </tr>\n",
       "  </thead>\n",
       "  <tbody>\n",
       "    <tr>\n",
       "      <th>0</th>\n",
       "      <td>14.760097</td>\n",
       "      <td>0.101190</td>\n",
       "      <td>9.449974</td>\n",
       "      <td>0.071429</td>\n",
       "    </tr>\n",
       "    <tr>\n",
       "      <th>1</th>\n",
       "      <td>9.073027</td>\n",
       "      <td>0.071429</td>\n",
       "      <td>5.719422</td>\n",
       "      <td>0.071429</td>\n",
       "    </tr>\n",
       "    <tr>\n",
       "      <th>2</th>\n",
       "      <td>6.202248</td>\n",
       "      <td>0.059524</td>\n",
       "      <td>3.604184</td>\n",
       "      <td>0.119048</td>\n",
       "    </tr>\n",
       "    <tr>\n",
       "      <th>3</th>\n",
       "      <td>3.467001</td>\n",
       "      <td>0.071429</td>\n",
       "      <td>2.647268</td>\n",
       "      <td>0.142857</td>\n",
       "    </tr>\n",
       "    <tr>\n",
       "      <th>4</th>\n",
       "      <td>2.693926</td>\n",
       "      <td>0.196429</td>\n",
       "      <td>2.443763</td>\n",
       "      <td>0.142857</td>\n",
       "    </tr>\n",
       "    <tr>\n",
       "      <th>5</th>\n",
       "      <td>2.371745</td>\n",
       "      <td>0.142857</td>\n",
       "      <td>2.146179</td>\n",
       "      <td>0.404762</td>\n",
       "    </tr>\n",
       "    <tr>\n",
       "      <th>6</th>\n",
       "      <td>2.073320</td>\n",
       "      <td>0.380952</td>\n",
       "      <td>1.810314</td>\n",
       "      <td>0.500000</td>\n",
       "    </tr>\n",
       "    <tr>\n",
       "      <th>7</th>\n",
       "      <td>1.777688</td>\n",
       "      <td>0.363095</td>\n",
       "      <td>1.600097</td>\n",
       "      <td>0.500000</td>\n",
       "    </tr>\n",
       "    <tr>\n",
       "      <th>8</th>\n",
       "      <td>1.598668</td>\n",
       "      <td>0.511905</td>\n",
       "      <td>1.582850</td>\n",
       "      <td>0.476190</td>\n",
       "    </tr>\n",
       "    <tr>\n",
       "      <th>9</th>\n",
       "      <td>1.372004</td>\n",
       "      <td>0.613095</td>\n",
       "      <td>1.326120</td>\n",
       "      <td>0.619048</td>\n",
       "    </tr>\n",
       "    <tr>\n",
       "      <th>10</th>\n",
       "      <td>1.160503</td>\n",
       "      <td>0.678571</td>\n",
       "      <td>1.122635</td>\n",
       "      <td>0.666667</td>\n",
       "    </tr>\n",
       "    <tr>\n",
       "      <th>11</th>\n",
       "      <td>0.944311</td>\n",
       "      <td>0.750000</td>\n",
       "      <td>0.936743</td>\n",
       "      <td>0.690476</td>\n",
       "    </tr>\n",
       "    <tr>\n",
       "      <th>12</th>\n",
       "      <td>0.790292</td>\n",
       "      <td>0.779762</td>\n",
       "      <td>0.885482</td>\n",
       "      <td>0.761905</td>\n",
       "    </tr>\n",
       "    <tr>\n",
       "      <th>13</th>\n",
       "      <td>0.678413</td>\n",
       "      <td>0.827381</td>\n",
       "      <td>0.814481</td>\n",
       "      <td>0.714286</td>\n",
       "    </tr>\n",
       "    <tr>\n",
       "      <th>14</th>\n",
       "      <td>0.652578</td>\n",
       "      <td>0.803571</td>\n",
       "      <td>0.681957</td>\n",
       "      <td>0.785714</td>\n",
       "    </tr>\n",
       "    <tr>\n",
       "      <th>15</th>\n",
       "      <td>0.485074</td>\n",
       "      <td>0.886905</td>\n",
       "      <td>0.583246</td>\n",
       "      <td>0.809524</td>\n",
       "    </tr>\n",
       "    <tr>\n",
       "      <th>16</th>\n",
       "      <td>0.391505</td>\n",
       "      <td>0.898810</td>\n",
       "      <td>0.486191</td>\n",
       "      <td>0.857143</td>\n",
       "    </tr>\n",
       "    <tr>\n",
       "      <th>17</th>\n",
       "      <td>0.322012</td>\n",
       "      <td>0.922619</td>\n",
       "      <td>0.356876</td>\n",
       "      <td>0.857143</td>\n",
       "    </tr>\n",
       "    <tr>\n",
       "      <th>18</th>\n",
       "      <td>0.293464</td>\n",
       "      <td>0.934524</td>\n",
       "      <td>0.432448</td>\n",
       "      <td>0.857143</td>\n",
       "    </tr>\n",
       "    <tr>\n",
       "      <th>19</th>\n",
       "      <td>0.272064</td>\n",
       "      <td>0.916667</td>\n",
       "      <td>0.414093</td>\n",
       "      <td>0.857143</td>\n",
       "    </tr>\n",
       "  </tbody>\n",
       "</table>\n",
       "</div>"
      ],
      "text/plain": [
       "         loss  accuracy  val_loss  val_accuracy\n",
       "0   14.760097  0.101190  9.449974      0.071429\n",
       "1    9.073027  0.071429  5.719422      0.071429\n",
       "2    6.202248  0.059524  3.604184      0.119048\n",
       "3    3.467001  0.071429  2.647268      0.142857\n",
       "4    2.693926  0.196429  2.443763      0.142857\n",
       "5    2.371745  0.142857  2.146179      0.404762\n",
       "6    2.073320  0.380952  1.810314      0.500000\n",
       "7    1.777688  0.363095  1.600097      0.500000\n",
       "8    1.598668  0.511905  1.582850      0.476190\n",
       "9    1.372004  0.613095  1.326120      0.619048\n",
       "10   1.160503  0.678571  1.122635      0.666667\n",
       "11   0.944311  0.750000  0.936743      0.690476\n",
       "12   0.790292  0.779762  0.885482      0.761905\n",
       "13   0.678413  0.827381  0.814481      0.714286\n",
       "14   0.652578  0.803571  0.681957      0.785714\n",
       "15   0.485074  0.886905  0.583246      0.809524\n",
       "16   0.391505  0.898810  0.486191      0.857143\n",
       "17   0.322012  0.922619  0.356876      0.857143\n",
       "18   0.293464  0.934524  0.432448      0.857143\n",
       "19   0.272064  0.916667  0.414093      0.857143"
      ]
     },
     "execution_count": 14,
     "metadata": {},
     "output_type": "execute_result"
    }
   ],
   "source": [
    "train_hist = pd.DataFrame(training.history)\n",
    "train_hist"
   ]
  },
  {
   "cell_type": "code",
   "execution_count": 15,
   "metadata": {},
   "outputs": [
    {
     "data": {
      "image/png": "[encoded data removed]",
      "text/plain": [
       "<Figure size 1440x576 with 1 Axes>"
      ]
     },
     "metadata": {
      "needs_background": "light"
     },
     "output_type": "display_data"
    },
    {
     "data": {
      "image/png": "[encoded data removed]",
      "text/plain": [
       "<Figure size 1440x576 with 1 Axes>"
      ]
     },
     "metadata": {
      "needs_background": "light"
     },
     "output_type": "display_data"
    }
   ],
   "source": [
    "plt.figure(figsize=(20, 8))\n",
    "plt.plot(train_hist[['loss', 'val_loss']])\n",
    "plt.legend(['loss', 'val_loss'])\n",
    "plt.title('Loss per Epochs')\n",
    "plt.xlabel('Epochs')\n",
    "plt.ylabel('Loss')\n",
    "plt.show()\n",
    "\n",
    "plt.figure(figsize=(20, 8))\n",
    "plt.plot(train_hist[['accuracy', 'val_accuracy']])\n",
    "plt.legend(['accuracy', 'val_accuracy'])\n",
    "plt.title('Accuracy per Epochs')\n",
    "plt.xlabel('Epochs')\n",
    "plt.ylabel('Accuracy')\n",
    "plt.show()"
   ]
  },
  {
   "cell_type": "code",
   "execution_count": 16,
   "metadata": {},
   "outputs": [
    {
     "name": "stdout",
     "output_type": "stream",
     "text": [
      "\n",
      "Confusion Matrix: \n",
      "\n",
      "\n",
      "[[2 0 0 0 0 0 0 0 0 0 0 0 0]\n",
      " [0 0 0 0 0 0 0 2 0 0 0 0 0]\n",
      " [0 0 2 0 0 0 0 0 0 0 0 0 0]\n",
      " [0 0 0 2 0 0 0 0 0 0 0 0 0]\n",
      " [0 0 0 0 2 0 0 0 0 0 0 0 0]\n",
      " [0 0 0 0 0 1 0 0 0 0 0 0 0]\n",
      " [0 0 0 0 0 0 2 0 0 0 0 0 0]\n",
      " [0 0 0 1 0 0 0 1 0 0 0 0 0]\n",
      " [0 0 0 0 0 0 0 0 1 0 0 0 0]\n",
      " [0 0 0 0 0 0 0 0 0 2 0 0 0]\n",
      " [0 0 0 0 0 1 0 0 0 0 1 0 0]\n",
      " [0 0 0 1 0 0 0 0 0 0 0 1 0]\n",
      " [0 0 0 0 0 0 0 0 0 0 0 0 2]]\n",
      "\n",
      "\n",
      "Classification Report: \n",
      "\n",
      "               precision    recall  f1-score   support\n",
      "\n",
      "           1       1.00      1.00      1.00         2\n",
      "           2       0.00      0.00      0.00         2\n",
      "           3       1.00      1.00      1.00         2\n",
      "           4       0.50      1.00      0.67         2\n",
      "           5       1.00      1.00      1.00         2\n",
      "           6       0.50      1.00      0.67         1\n",
      "           7       1.00      1.00      1.00         2\n",
      "           8       0.33      0.50      0.40         2\n",
      "           9       1.00      1.00      1.00         1\n",
      "          10       1.00      1.00      1.00         2\n",
      "          11       1.00      0.50      0.67         2\n",
      "          12       1.00      0.50      0.67         2\n",
      "          13       1.00      1.00      1.00         2\n",
      "\n",
      "    accuracy                           0.79        24\n",
      "   macro avg       0.79      0.81      0.77        24\n",
      "weighted avg       0.80      0.79      0.77        24\n",
      "\n"
     ]
    },
    {
     "name": "stderr",
     "output_type": "stream",
     "text": [
      "c:\\Users\\arsal\\Documents\\GitHub\\GuitarGrapher_v2\\env\\lib\\site-packages\\sklearn\\metrics\\_classification.py:1318: UndefinedMetricWarning: Precision and F-score are ill-defined and being set to 0.0 in labels with no predicted samples. Use `zero_division` parameter to control this behavior.\n",
      "  _warn_prf(average, modifier, msg_start, len(result))\n",
      "c:\\Users\\arsal\\Documents\\GitHub\\GuitarGrapher_v2\\env\\lib\\site-packages\\sklearn\\metrics\\_classification.py:1318: UndefinedMetricWarning: Precision and F-score are ill-defined and being set to 0.0 in labels with no predicted samples. Use `zero_division` parameter to control this behavior.\n",
      "  _warn_prf(average, modifier, msg_start, len(result))\n",
      "c:\\Users\\arsal\\Documents\\GitHub\\GuitarGrapher_v2\\env\\lib\\site-packages\\sklearn\\metrics\\_classification.py:1318: UndefinedMetricWarning: Precision and F-score are ill-defined and being set to 0.0 in labels with no predicted samples. Use `zero_division` parameter to control this behavior.\n",
      "  _warn_prf(average, modifier, msg_start, len(result))\n"
     ]
    }
   ],
   "source": [
    "ytrue = np.argmax(ytest, axis=1)\n",
    "ypred = np.argmax(model.predict(xtest), axis=1)\n",
    "print('\\nConfusion Matrix: \\n\\n')\n",
    "print(confusion_matrix(ytrue, ypred))\n",
    "print('\\n\\nClassification Report: \\n\\n', classification_report(ytrue, ypred))\n"
   ]
  },
  {
   "cell_type": "code",
   "execution_count": 17,
   "metadata": {},
   "outputs": [
    {
     "name": "stdout",
     "output_type": "stream",
     "text": [
      "INFO:tensorflow:Assets written to: ./model\\assets\n"
     ]
    }
   ],
   "source": [
    "model.save('./model')"
   ]
  }
 ],
 "metadata": {
  "interpreter": {
   "hash": "745580af149099085c602309336f96fdb3d04063157b41704fe01950326166b1"
  },
  "kernelspec": {
   "display_name": "Python 3.8.8 ('base')",
   "language": "python",
   "name": "python3"
  },
  "language_info": {
   "codemirror_mode": {
    "name": "ipython",
    "version": 3
   },
   "file_extension": ".py",
   "mimetype": "text/x-python",
   "name": "python",
   "nbconvert_exporter": "python",
   "pygments_lexer": "ipython3",
   "version": "3.9.7"
  },
  "orig_nbformat": 4
 },
 "nbformat": 4,
 "nbformat_minor": 2
}
