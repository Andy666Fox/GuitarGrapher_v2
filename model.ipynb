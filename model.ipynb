{
 "cells": [
  {
   "cell_type": "markdown",
   "metadata": {},
   "source": [
    "# Imports"
   ]
  },
  {
   "cell_type": "code",
   "execution_count": 1,
   "metadata": {},
   "outputs": [],
   "source": [
    "import os\n",
    "import numpy as np\n",
    "import pandas as pd\n",
    "import librosa as lb\n",
    "import IPython.display as ipd\n",
    "import matplotlib.pyplot as plt\n",
    "import tensorflow as tf\n",
    "from tensorflow import keras\n",
    "from tensorflow.keras import Sequential, layers\n",
    "from tensorflow.keras.utils import to_categorical\n",
    "from sklearn.model_selection import train_test_split\n",
    "from sklearn.metrics import confusion_matrix, classification_report\n",
    "from tqdm import tqdm"
   ]
  },
  {
   "cell_type": "markdown",
   "metadata": {},
   "source": [
    "# READ THE DATA"
   ]
  },
  {
   "cell_type": "code",
   "execution_count": 2,
   "metadata": {},
   "outputs": [
    {
     "name": "stdout",
     "output_type": "stream",
     "text": [
      "Samples num: 216\n",
      "Columns num: 3\n"
     ]
    },
    {
     "data": {
      "text/html": [
       "<div>\n",
       "<style scoped>\n",
       "    .dataframe tbody tr th:only-of-type {\n",
       "        vertical-align: middle;\n",
       "    }\n",
       "\n",
       "    .dataframe tbody tr th {\n",
       "        vertical-align: top;\n",
       "    }\n",
       "\n",
       "    .dataframe thead th {\n",
       "        text-align: right;\n",
       "    }\n",
       "</style>\n",
       "<table border=\"1\" class=\"dataframe\">\n",
       "  <thead>\n",
       "    <tr style=\"text-align: right;\">\n",
       "      <th></th>\n",
       "      <th>Sample</th>\n",
       "      <th>Class_ID</th>\n",
       "      <th>Class</th>\n",
       "    </tr>\n",
       "  </thead>\n",
       "  <tbody>\n",
       "    <tr>\n",
       "      <th>0</th>\n",
       "      <td>./input/notes_v2/A/A1.wav</td>\n",
       "      <td>1</td>\n",
       "      <td>A</td>\n",
       "    </tr>\n",
       "    <tr>\n",
       "      <th>1</th>\n",
       "      <td>./input/notes_v2/A/A1.wav_000.wav</td>\n",
       "      <td>1</td>\n",
       "      <td>A</td>\n",
       "    </tr>\n",
       "    <tr>\n",
       "      <th>2</th>\n",
       "      <td>./input/notes_v2/A/A1.wav_010.wav</td>\n",
       "      <td>1</td>\n",
       "      <td>A</td>\n",
       "    </tr>\n",
       "    <tr>\n",
       "      <th>3</th>\n",
       "      <td>./input/notes_v2/A/A2.wav</td>\n",
       "      <td>1</td>\n",
       "      <td>A</td>\n",
       "    </tr>\n",
       "    <tr>\n",
       "      <th>4</th>\n",
       "      <td>./input/notes_v2/A/A2.wav_001.wav</td>\n",
       "      <td>1</td>\n",
       "      <td>A</td>\n",
       "    </tr>\n",
       "  </tbody>\n",
       "</table>\n",
       "</div>"
      ],
      "text/plain": [
       "                              Sample  Class_ID Class\n",
       "0          ./input/notes_v2/A/A1.wav         1     A\n",
       "1  ./input/notes_v2/A/A1.wav_000.wav         1     A\n",
       "2  ./input/notes_v2/A/A1.wav_010.wav         1     A\n",
       "3          ./input/notes_v2/A/A2.wav         1     A\n",
       "4  ./input/notes_v2/A/A2.wav_001.wav         1     A"
      ]
     },
     "execution_count": 2,
     "metadata": {},
     "output_type": "execute_result"
    }
   ],
   "source": [
    "metadata = pd.read_csv('./m_metadata.csv')\n",
    "print(f'Samples num: {metadata.shape[0]}\\nColumns num: {metadata.shape[1]}')\n",
    "metadata.head()"
   ]
  },
  {
   "cell_type": "markdown",
   "metadata": {},
   "source": [
    "# GETTING DATA ABOUT CLASSES"
   ]
  },
  {
   "cell_type": "code",
   "execution_count": 4,
   "metadata": {},
   "outputs": [
    {
     "data": {
      "text/plain": [
       "Class_ID\n",
       "1           [A]\n",
       "2           [B]\n",
       "3           [C]\n",
       "4           [D]\n",
       "5           [E]\n",
       "6           [F]\n",
       "7           [G]\n",
       "8      [Barrel]\n",
       "9       [Flage]\n",
       "10    [PoffHon]\n",
       "11       [Slap]\n",
       "12      [Slide]\n",
       "Name: Class, dtype: object"
      ]
     },
     "execution_count": 4,
     "metadata": {},
     "output_type": "execute_result"
    }
   ],
   "source": [
    "classes = metadata.groupby('Class_ID')['Class'].unique()\n",
    "classes"
   ]
  },
  {
   "cell_type": "markdown",
   "metadata": {},
   "source": [
    "# CREATING A FUNCTION TO EXTRACT DATA FROM SAMPLES"
   ]
  },
  {
   "cell_type": "code",
   "execution_count": 5,
   "metadata": {},
   "outputs": [],
   "source": [
    "def feature_exctractor(path: str) -> np.array:\n",
    "    data, _ = lb.load(path)\n",
    "    data = lb.feature.mfcc(data, n_mfcc=128)\n",
    "    data= np.mean(data, axis=1)\n",
    "\n",
    "    return data"
   ]
  },
  {
   "cell_type": "markdown",
   "metadata": {},
   "source": [
    "# DATA EXTRACTION"
   ]
  },
  {
   "cell_type": "code",
   "execution_count": 6,
   "metadata": {},
   "outputs": [
    {
     "name": "stderr",
     "output_type": "stream",
     "text": [
      "216it [00:33,  6.38it/s]\n"
     ]
    },
    {
     "data": {
      "text/plain": [
       "((216, 128), (216,))"
      ]
     },
     "execution_count": 6,
     "metadata": {},
     "output_type": "execute_result"
    }
   ],
   "source": [
    "x, y = [], []\n",
    "\n",
    "for i, rows in tqdm(metadata.iterrows()):\n",
    "    path = rows['Sample']\n",
    "    x.append(feature_exctractor(path))\n",
    "    y.append(rows['Class_ID'])\n",
    "\n",
    "x = np.array(x)\n",
    "y = np.array(y)\n",
    "\n",
    "x.shape, y.shape"
   ]
  },
  {
   "cell_type": "markdown",
   "metadata": {},
   "source": [
    "# TRANSFER OF TARGET CLASSES TO CATEGORIAL TYPE"
   ]
  },
  {
   "cell_type": "code",
   "execution_count": 7,
   "metadata": {},
   "outputs": [
    {
     "data": {
      "text/plain": [
       "(216, 13)"
      ]
     },
     "execution_count": 7,
     "metadata": {},
     "output_type": "execute_result"
    }
   ],
   "source": [
    "y = to_categorical(y)\n",
    "y.shape"
   ]
  },
  {
   "cell_type": "markdown",
   "metadata": {},
   "source": [
    "# SPLITTING INTO TRAINING / TEST / VALIDATION DATA"
   ]
  },
  {
   "cell_type": "code",
   "execution_count": 8,
   "metadata": {},
   "outputs": [
    {
     "name": "stdout",
     "output_type": "stream",
     "text": [
      "\n",
      "Number of samples for Train set : 155\n",
      "Number of samples for Validation set : 39\n",
      "Number of samples for Test set : 22\n"
     ]
    }
   ],
   "source": [
    "xtrainval, xtest, ytrainval, ytest = train_test_split(x, y, test_size=0.1, stratify=y, random_state=42)\n",
    "xtrain, xvalid, ytrain, yvalid = train_test_split(xtrainval, ytrainval, test_size=0.2, stratify=ytrainval,random_state=42)\n",
    "\n",
    "print('\\nNumber of samples for Train set :',xtrain.shape[0])\n",
    "print('Number of samples for Validation set :',xvalid.shape[0])\n",
    "print('Number of samples for Test set :',xtest.shape[0])"
   ]
  },
  {
   "cell_type": "markdown",
   "metadata": {},
   "source": [
    "# MODEL ARCHITECTURE"
   ]
  },
  {
   "cell_type": "code",
   "execution_count": 9,
   "metadata": {},
   "outputs": [
    {
     "name": "stdout",
     "output_type": "stream",
     "text": [
      "Model: \"sequential\"\n",
      "_________________________________________________________________\n",
      "Layer (type)                 Output Shape              Param #   \n",
      "=================================================================\n",
      "dense (Dense)                (None, 1000)              129000    \n",
      "_________________________________________________________________\n",
      "dense_1 (Dense)              (None, 750)               750750    \n",
      "_________________________________________________________________\n",
      "dense_2 (Dense)              (None, 500)               375500    \n",
      "_________________________________________________________________\n",
      "dense_3 (Dense)              (None, 250)               125250    \n",
      "_________________________________________________________________\n",
      "dense_4 (Dense)              (None, 100)               25100     \n",
      "_________________________________________________________________\n",
      "dense_5 (Dense)              (None, 50)                5050      \n",
      "_________________________________________________________________\n",
      "dense_6 (Dense)              (None, 13)                663       \n",
      "=================================================================\n",
      "Total params: 1,411,313\n",
      "Trainable params: 1,411,313\n",
      "Non-trainable params: 0\n",
      "_________________________________________________________________\n"
     ]
    }
   ],
   "source": [
    "model = Sequential(\n",
    "    [\n",
    "        layers.Dense(1000, activation='relu', input_shape=(128,)),\n",
    "        layers.Dense(750, activation='relu'),\n",
    "        layers.Dense(500, activation='relu'),\n",
    "        layers.Dense(250, activation='relu'),\n",
    "        layers.Dense(100, activation='relu'),\n",
    "        layers.Dense(50, activation='relu'),\n",
    "        layers.Dense(13, activation='softmax')\n",
    "    ]\n",
    ")\n",
    "\n",
    "model.summary()"
   ]
  },
  {
   "cell_type": "markdown",
   "metadata": {},
   "source": [
    "# MODEL COMPILATION AND TRAINING"
   ]
  },
  {
   "cell_type": "code",
   "execution_count": 10,
   "metadata": {},
   "outputs": [
    {
     "name": "stdout",
     "output_type": "stream",
     "text": [
      "Epoch 1/20\n",
      "5/5 [==============================] - 1s 61ms/step - loss: 15.3511 - accuracy: 0.1226 - val_loss: 10.7357 - val_accuracy: 0.1026\n",
      "Epoch 2/20\n",
      "5/5 [==============================] - 0s 23ms/step - loss: 6.3558 - accuracy: 0.1290 - val_loss: 3.5625 - val_accuracy: 0.1795\n",
      "Epoch 3/20\n",
      "5/5 [==============================] - 0s 21ms/step - loss: 3.5869 - accuracy: 0.1161 - val_loss: 3.2486 - val_accuracy: 0.1538\n",
      "Epoch 4/20\n",
      "5/5 [==============================] - 0s 22ms/step - loss: 3.0175 - accuracy: 0.1806 - val_loss: 2.4376 - val_accuracy: 0.2308\n",
      "Epoch 5/20\n",
      "5/5 [==============================] - 0s 23ms/step - loss: 2.3581 - accuracy: 0.2000 - val_loss: 2.3518 - val_accuracy: 0.1538\n",
      "Epoch 6/20\n",
      "5/5 [==============================] - 0s 22ms/step - loss: 2.0867 - accuracy: 0.2516 - val_loss: 2.1483 - val_accuracy: 0.2308\n",
      "Epoch 7/20\n",
      "5/5 [==============================] - 0s 21ms/step - loss: 1.9199 - accuracy: 0.3548 - val_loss: 1.9304 - val_accuracy: 0.3590\n",
      "Epoch 8/20\n",
      "5/5 [==============================] - 0s 29ms/step - loss: 1.6650 - accuracy: 0.4968 - val_loss: 1.6970 - val_accuracy: 0.4359\n",
      "Epoch 9/20\n",
      "5/5 [==============================] - 0s 30ms/step - loss: 1.4265 - accuracy: 0.4710 - val_loss: 1.5229 - val_accuracy: 0.5641\n",
      "Epoch 10/20\n",
      "5/5 [==============================] - 0s 20ms/step - loss: 1.2367 - accuracy: 0.6258 - val_loss: 1.4254 - val_accuracy: 0.4872\n",
      "Epoch 11/20\n",
      "5/5 [==============================] - 0s 24ms/step - loss: 1.0655 - accuracy: 0.6452 - val_loss: 1.2471 - val_accuracy: 0.5897\n",
      "Epoch 12/20\n",
      "5/5 [==============================] - 0s 21ms/step - loss: 0.8394 - accuracy: 0.7419 - val_loss: 1.0795 - val_accuracy: 0.5641\n",
      "Epoch 13/20\n",
      "5/5 [==============================] - 0s 24ms/step - loss: 0.6898 - accuracy: 0.8194 - val_loss: 1.0267 - val_accuracy: 0.6923\n",
      "Epoch 14/20\n",
      "5/5 [==============================] - 0s 21ms/step - loss: 0.7143 - accuracy: 0.7871 - val_loss: 0.9079 - val_accuracy: 0.7179\n",
      "Epoch 15/20\n",
      "5/5 [==============================] - 0s 23ms/step - loss: 0.6103 - accuracy: 0.8323 - val_loss: 0.8043 - val_accuracy: 0.7436\n",
      "Epoch 16/20\n",
      "5/5 [==============================] - 0s 22ms/step - loss: 0.4999 - accuracy: 0.8774 - val_loss: 0.6815 - val_accuracy: 0.8462\n",
      "Epoch 17/20\n",
      "5/5 [==============================] - 0s 24ms/step - loss: 0.4186 - accuracy: 0.8903 - val_loss: 0.6763 - val_accuracy: 0.8205\n",
      "Epoch 18/20\n",
      "5/5 [==============================] - 0s 23ms/step - loss: 0.3636 - accuracy: 0.9226 - val_loss: 0.7514 - val_accuracy: 0.7179\n",
      "Epoch 19/20\n",
      "5/5 [==============================] - 0s 24ms/step - loss: 0.2790 - accuracy: 0.9355 - val_loss: 0.6663 - val_accuracy: 0.7949\n",
      "Epoch 20/20\n",
      "5/5 [==============================] - 0s 26ms/step - loss: 0.2104 - accuracy: 0.9548 - val_loss: 0.5397 - val_accuracy: 0.7949\n"
     ]
    }
   ],
   "source": [
    "model.compile(loss='categorical_crossentropy', optimizer='adam', metrics=['accuracy'])\n",
    "training = model.fit(xtrain, ytrain, validation_data=(xvalid, yvalid), epochs=20)"
   ]
  },
  {
   "cell_type": "markdown",
   "metadata": {},
   "source": [
    "# VERIFICATION OF THE MODEL RESULTS"
   ]
  },
  {
   "cell_type": "code",
   "execution_count": 11,
   "metadata": {},
   "outputs": [
    {
     "data": {
      "text/html": [
       "<div>\n",
       "<style scoped>\n",
       "    .dataframe tbody tr th:only-of-type {\n",
       "        vertical-align: middle;\n",
       "    }\n",
       "\n",
       "    .dataframe tbody tr th {\n",
       "        vertical-align: top;\n",
       "    }\n",
       "\n",
       "    .dataframe thead th {\n",
       "        text-align: right;\n",
       "    }\n",
       "</style>\n",
       "<table border=\"1\" class=\"dataframe\">\n",
       "  <thead>\n",
       "    <tr style=\"text-align: right;\">\n",
       "      <th></th>\n",
       "      <th>loss</th>\n",
       "      <th>accuracy</th>\n",
       "      <th>val_loss</th>\n",
       "      <th>val_accuracy</th>\n",
       "    </tr>\n",
       "  </thead>\n",
       "  <tbody>\n",
       "    <tr>\n",
       "      <th>0</th>\n",
       "      <td>15.351093</td>\n",
       "      <td>0.122581</td>\n",
       "      <td>10.735681</td>\n",
       "      <td>0.102564</td>\n",
       "    </tr>\n",
       "    <tr>\n",
       "      <th>1</th>\n",
       "      <td>6.355837</td>\n",
       "      <td>0.129032</td>\n",
       "      <td>3.562516</td>\n",
       "      <td>0.179487</td>\n",
       "    </tr>\n",
       "    <tr>\n",
       "      <th>2</th>\n",
       "      <td>3.586879</td>\n",
       "      <td>0.116129</td>\n",
       "      <td>3.248601</td>\n",
       "      <td>0.153846</td>\n",
       "    </tr>\n",
       "    <tr>\n",
       "      <th>3</th>\n",
       "      <td>3.017514</td>\n",
       "      <td>0.180645</td>\n",
       "      <td>2.437642</td>\n",
       "      <td>0.230769</td>\n",
       "    </tr>\n",
       "    <tr>\n",
       "      <th>4</th>\n",
       "      <td>2.358089</td>\n",
       "      <td>0.200000</td>\n",
       "      <td>2.351807</td>\n",
       "      <td>0.153846</td>\n",
       "    </tr>\n",
       "    <tr>\n",
       "      <th>5</th>\n",
       "      <td>2.086742</td>\n",
       "      <td>0.251613</td>\n",
       "      <td>2.148332</td>\n",
       "      <td>0.230769</td>\n",
       "    </tr>\n",
       "    <tr>\n",
       "      <th>6</th>\n",
       "      <td>1.919872</td>\n",
       "      <td>0.354839</td>\n",
       "      <td>1.930390</td>\n",
       "      <td>0.358974</td>\n",
       "    </tr>\n",
       "    <tr>\n",
       "      <th>7</th>\n",
       "      <td>1.664955</td>\n",
       "      <td>0.496774</td>\n",
       "      <td>1.696981</td>\n",
       "      <td>0.435897</td>\n",
       "    </tr>\n",
       "    <tr>\n",
       "      <th>8</th>\n",
       "      <td>1.426480</td>\n",
       "      <td>0.470968</td>\n",
       "      <td>1.522872</td>\n",
       "      <td>0.564103</td>\n",
       "    </tr>\n",
       "    <tr>\n",
       "      <th>9</th>\n",
       "      <td>1.236718</td>\n",
       "      <td>0.625806</td>\n",
       "      <td>1.425387</td>\n",
       "      <td>0.487179</td>\n",
       "    </tr>\n",
       "    <tr>\n",
       "      <th>10</th>\n",
       "      <td>1.065500</td>\n",
       "      <td>0.645161</td>\n",
       "      <td>1.247141</td>\n",
       "      <td>0.589744</td>\n",
       "    </tr>\n",
       "    <tr>\n",
       "      <th>11</th>\n",
       "      <td>0.839370</td>\n",
       "      <td>0.741935</td>\n",
       "      <td>1.079476</td>\n",
       "      <td>0.564103</td>\n",
       "    </tr>\n",
       "    <tr>\n",
       "      <th>12</th>\n",
       "      <td>0.689755</td>\n",
       "      <td>0.819355</td>\n",
       "      <td>1.026731</td>\n",
       "      <td>0.692308</td>\n",
       "    </tr>\n",
       "    <tr>\n",
       "      <th>13</th>\n",
       "      <td>0.714301</td>\n",
       "      <td>0.787097</td>\n",
       "      <td>0.907932</td>\n",
       "      <td>0.717949</td>\n",
       "    </tr>\n",
       "    <tr>\n",
       "      <th>14</th>\n",
       "      <td>0.610258</td>\n",
       "      <td>0.832258</td>\n",
       "      <td>0.804322</td>\n",
       "      <td>0.743590</td>\n",
       "    </tr>\n",
       "    <tr>\n",
       "      <th>15</th>\n",
       "      <td>0.499902</td>\n",
       "      <td>0.877419</td>\n",
       "      <td>0.681529</td>\n",
       "      <td>0.846154</td>\n",
       "    </tr>\n",
       "    <tr>\n",
       "      <th>16</th>\n",
       "      <td>0.418561</td>\n",
       "      <td>0.890323</td>\n",
       "      <td>0.676304</td>\n",
       "      <td>0.820513</td>\n",
       "    </tr>\n",
       "    <tr>\n",
       "      <th>17</th>\n",
       "      <td>0.363572</td>\n",
       "      <td>0.922581</td>\n",
       "      <td>0.751379</td>\n",
       "      <td>0.717949</td>\n",
       "    </tr>\n",
       "    <tr>\n",
       "      <th>18</th>\n",
       "      <td>0.278987</td>\n",
       "      <td>0.935484</td>\n",
       "      <td>0.666346</td>\n",
       "      <td>0.794872</td>\n",
       "    </tr>\n",
       "    <tr>\n",
       "      <th>19</th>\n",
       "      <td>0.210374</td>\n",
       "      <td>0.954839</td>\n",
       "      <td>0.539734</td>\n",
       "      <td>0.794872</td>\n",
       "    </tr>\n",
       "  </tbody>\n",
       "</table>\n",
       "</div>"
      ],
      "text/plain": [
       "         loss  accuracy   val_loss  val_accuracy\n",
       "0   15.351093  0.122581  10.735681      0.102564\n",
       "1    6.355837  0.129032   3.562516      0.179487\n",
       "2    3.586879  0.116129   3.248601      0.153846\n",
       "3    3.017514  0.180645   2.437642      0.230769\n",
       "4    2.358089  0.200000   2.351807      0.153846\n",
       "5    2.086742  0.251613   2.148332      0.230769\n",
       "6    1.919872  0.354839   1.930390      0.358974\n",
       "7    1.664955  0.496774   1.696981      0.435897\n",
       "8    1.426480  0.470968   1.522872      0.564103\n",
       "9    1.236718  0.625806   1.425387      0.487179\n",
       "10   1.065500  0.645161   1.247141      0.589744\n",
       "11   0.839370  0.741935   1.079476      0.564103\n",
       "12   0.689755  0.819355   1.026731      0.692308\n",
       "13   0.714301  0.787097   0.907932      0.717949\n",
       "14   0.610258  0.832258   0.804322      0.743590\n",
       "15   0.499902  0.877419   0.681529      0.846154\n",
       "16   0.418561  0.890323   0.676304      0.820513\n",
       "17   0.363572  0.922581   0.751379      0.717949\n",
       "18   0.278987  0.935484   0.666346      0.794872\n",
       "19   0.210374  0.954839   0.539734      0.794872"
      ]
     },
     "execution_count": 11,
     "metadata": {},
     "output_type": "execute_result"
    }
   ],
   "source": [
    "train_hist = pd.DataFrame(training.history)\n",
    "train_hist"
   ]
  },
  {
   "cell_type": "code",
   "execution_count": 12,
   "metadata": {},
   "outputs": [
    {
     "data": {
      "image/png": "[encoded data removed]",
      "text/plain": [
       "<Figure size 1440x576 with 1 Axes>"
      ]
     },
     "metadata": {
      "needs_background": "light"
     },
     "output_type": "display_data"
    },
    {
     "data": {
      "image/png": "[encoded data removed]",
      "text/plain": [
       "<Figure size 1440x576 with 1 Axes>"
      ]
     },
     "metadata": {
      "needs_background": "light"
     },
     "output_type": "display_data"
    }
   ],
   "source": [
    "plt.figure(figsize=(20, 8))\n",
    "plt.plot(train_hist[['loss', 'val_loss']])\n",
    "plt.legend(['loss', 'val_loss'])\n",
    "plt.title('Loss per Epochs')\n",
    "plt.xlabel('Epochs')\n",
    "plt.ylabel('Loss')\n",
    "plt.show()\n",
    "\n",
    "plt.figure(figsize=(20, 8))\n",
    "plt.plot(train_hist[['accuracy', 'val_accuracy']])\n",
    "plt.legend(['accuracy', 'val_accuracy'])\n",
    "plt.title('Accuracy per Epochs')\n",
    "plt.xlabel('Epochs')\n",
    "plt.ylabel('Accuracy')\n",
    "plt.show()"
   ]
  },
  {
   "cell_type": "code",
   "execution_count": 14,
   "metadata": {},
   "outputs": [
    {
     "name": "stdout",
     "output_type": "stream",
     "text": [
      "\n",
      "Confusion Matrix: \n",
      "\n",
      "\n",
      "[[2 0 0 0 0 0 0 0 0 0 0 0]\n",
      " [0 1 0 0 0 0 0 0 0 0 0 0]\n",
      " [0 0 2 0 0 0 0 0 0 0 0 0]\n",
      " [0 0 0 2 0 0 0 0 0 0 0 0]\n",
      " [0 0 0 0 2 0 0 0 0 0 0 0]\n",
      " [0 0 0 0 0 2 0 0 0 0 0 0]\n",
      " [0 0 0 0 0 0 2 0 0 0 0 0]\n",
      " [0 0 0 0 0 0 0 1 0 1 0 0]\n",
      " [0 0 0 0 0 0 0 0 1 0 0 0]\n",
      " [0 0 0 0 0 0 0 0 0 0 0 2]\n",
      " [0 0 0 0 0 0 0 0 0 0 2 0]\n",
      " [0 0 0 0 0 0 0 0 0 0 0 2]]\n",
      "\n",
      "\n",
      "Classification Report: \n",
      "\n",
      "               precision    recall  f1-score   support\n",
      "\n",
      "           1       1.00      1.00      1.00         2\n",
      "           2       1.00      1.00      1.00         1\n",
      "           3       1.00      1.00      1.00         2\n",
      "           4       1.00      1.00      1.00         2\n",
      "           5       1.00      1.00      1.00         2\n",
      "           6       1.00      1.00      1.00         2\n",
      "           7       1.00      1.00      1.00         2\n",
      "           8       1.00      0.50      0.67         2\n",
      "           9       1.00      1.00      1.00         1\n",
      "          10       0.00      0.00      0.00         2\n",
      "          11       1.00      1.00      1.00         2\n",
      "          12       0.50      1.00      0.67         2\n",
      "\n",
      "    accuracy                           0.86        22\n",
      "   macro avg       0.88      0.88      0.86        22\n",
      "weighted avg       0.86      0.86      0.85        22\n",
      "\n"
     ]
    }
   ],
   "source": [
    "ytrue = np.argmax(ytest, axis=1)\n",
    "ypred = np.argmax(model.predict(xtest), axis=1)\n",
    "print('\\nConfusion Matrix: \\n\\n')\n",
    "print(confusion_matrix(ytrue, ypred))\n",
    "print('\\n\\nClassification Report: \\n\\n', classification_report(ytrue, ypred))\n"
   ]
  }
 ],
 "metadata": {
  "interpreter": {
   "hash": "745580af149099085c602309336f96fdb3d04063157b41704fe01950326166b1"
  },
  "kernelspec": {
   "display_name": "Python 3.8.8 ('base')",
   "language": "python",
   "name": "python3"
  },
  "language_info": {
   "codemirror_mode": {
    "name": "ipython",
    "version": 3
   },
   "file_extension": ".py",
   "mimetype": "text/x-python",
   "name": "python",
   "nbconvert_exporter": "python",
   "pygments_lexer": "ipython3",
   "version": "3.8.8"
  },
  "orig_nbformat": 4
 },
 "nbformat": 4,
 "nbformat_minor": 2
}
