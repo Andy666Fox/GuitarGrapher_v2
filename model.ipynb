{
 "cells": [
  {
   "cell_type": "markdown",
   "metadata": {},
   "source": [
    "# Imports"
   ]
  },
  {
   "cell_type": "code",
   "execution_count": 1,
   "metadata": {},
   "outputs": [],
   "source": [
    "import os\n",
    "import numpy as np\n",
    "import pandas as pd\n",
    "import librosa as lb\n",
    "import IPython.display as ipd\n",
    "import matplotlib.pyplot as plt\n",
    "import tensorflow as tf\n",
    "from tensorflow import keras\n",
    "from tensorflow.keras import Sequential, layers\n",
    "from tensorflow.keras.utils import to_categorical\n",
    "from sklearn.model_selection import train_test_split\n",
    "from sklearn.metrics import confusion_matrix, classification_report\n",
    "from tqdm import tqdm"
   ]
  },
  {
   "cell_type": "code",
   "execution_count": 2,
   "metadata": {},
   "outputs": [
    {
     "name": "stdout",
     "output_type": "stream",
     "text": [
      "(216, 3)\n"
     ]
    },
    {
     "data": {
      "text/html": [
       "<div>\n",
       "<style scoped>\n",
       "    .dataframe tbody tr th:only-of-type {\n",
       "        vertical-align: middle;\n",
       "    }\n",
       "\n",
       "    .dataframe tbody tr th {\n",
       "        vertical-align: top;\n",
       "    }\n",
       "\n",
       "    .dataframe thead th {\n",
       "        text-align: right;\n",
       "    }\n",
       "</style>\n",
       "<table border=\"1\" class=\"dataframe\">\n",
       "  <thead>\n",
       "    <tr style=\"text-align: right;\">\n",
       "      <th></th>\n",
       "      <th>Sample</th>\n",
       "      <th>Class_ID</th>\n",
       "      <th>Class</th>\n",
       "    </tr>\n",
       "  </thead>\n",
       "  <tbody>\n",
       "    <tr>\n",
       "      <th>0</th>\n",
       "      <td>./input/notes_v2/A/A1.wav</td>\n",
       "      <td>1</td>\n",
       "      <td>A</td>\n",
       "    </tr>\n",
       "    <tr>\n",
       "      <th>1</th>\n",
       "      <td>./input/notes_v2/A/A1.wav_000.wav</td>\n",
       "      <td>1</td>\n",
       "      <td>A</td>\n",
       "    </tr>\n",
       "    <tr>\n",
       "      <th>2</th>\n",
       "      <td>./input/notes_v2/A/A1.wav_010.wav</td>\n",
       "      <td>1</td>\n",
       "      <td>A</td>\n",
       "    </tr>\n",
       "    <tr>\n",
       "      <th>3</th>\n",
       "      <td>./input/notes_v2/A/A2.wav</td>\n",
       "      <td>1</td>\n",
       "      <td>A</td>\n",
       "    </tr>\n",
       "    <tr>\n",
       "      <th>4</th>\n",
       "      <td>./input/notes_v2/A/A2.wav_001.wav</td>\n",
       "      <td>1</td>\n",
       "      <td>A</td>\n",
       "    </tr>\n",
       "  </tbody>\n",
       "</table>\n",
       "</div>"
      ],
      "text/plain": [
       "                              Sample  Class_ID Class\n",
       "0          ./input/notes_v2/A/A1.wav         1     A\n",
       "1  ./input/notes_v2/A/A1.wav_000.wav         1     A\n",
       "2  ./input/notes_v2/A/A1.wav_010.wav         1     A\n",
       "3          ./input/notes_v2/A/A2.wav         1     A\n",
       "4  ./input/notes_v2/A/A2.wav_001.wav         1     A"
      ]
     },
     "execution_count": 2,
     "metadata": {},
     "output_type": "execute_result"
    }
   ],
   "source": [
    "metadata = pd.read_csv('./m_metadata.csv')\n",
    "print(metadata.shape)\n",
    "metadata.head()"
   ]
  },
  {
   "cell_type": "code",
   "execution_count": 3,
   "metadata": {},
   "outputs": [
    {
     "data": {
      "text/plain": [
       "Class_ID\n",
       "1           [A]\n",
       "2           [B]\n",
       "3           [C]\n",
       "4           [D]\n",
       "5           [E]\n",
       "6           [F]\n",
       "7           [G]\n",
       "8      [Barrel]\n",
       "9       [Flage]\n",
       "10    [PoffHon]\n",
       "11       [Slap]\n",
       "12      [Slide]\n",
       "Name: Class, dtype: object"
      ]
     },
     "execution_count": 3,
     "metadata": {},
     "output_type": "execute_result"
    }
   ],
   "source": [
    "classes = metadata.groupby('Class_ID')['Class'].unique()\n",
    "classes"
   ]
  },
  {
   "cell_type": "code",
   "execution_count": 4,
   "metadata": {},
   "outputs": [],
   "source": [
    "def feature_exctractor(path: str) -> np.array:\n",
    "    data, sample_rate = lb.load(path)\n",
    "    data = lb.feature.mfcc(data, n_mfcc=128)\n",
    "    data= np.mean(data, axis=1)\n",
    "\n",
    "    return data"
   ]
  },
  {
   "cell_type": "code",
   "execution_count": 5,
   "metadata": {},
   "outputs": [
    {
     "name": "stderr",
     "output_type": "stream",
     "text": [
      "216it [00:36,  5.91it/s]\n"
     ]
    },
    {
     "data": {
      "text/plain": [
       "((216, 128), (216,))"
      ]
     },
     "execution_count": 5,
     "metadata": {},
     "output_type": "execute_result"
    }
   ],
   "source": [
    "x, y = [], []\n",
    "\n",
    "for i, rows in tqdm(metadata.iterrows()):\n",
    "    path = rows['Sample']\n",
    "    x.append(feature_exctractor(path))\n",
    "    y.append(rows['Class_ID'])\n",
    "\n",
    "x = np.array(x)\n",
    "y = np.array(y)\n",
    "\n",
    "x.shape, y.shape"
   ]
  },
  {
   "cell_type": "code",
   "execution_count": 7,
   "metadata": {},
   "outputs": [
    {
     "data": {
      "text/plain": [
       "(216, 13)"
      ]
     },
     "execution_count": 7,
     "metadata": {},
     "output_type": "execute_result"
    }
   ],
   "source": [
    "y = to_categorical(y)\n",
    "y.shape"
   ]
  },
  {
   "cell_type": "code",
   "execution_count": 8,
   "metadata": {},
   "outputs": [
    {
     "name": "stdout",
     "output_type": "stream",
     "text": [
      "\n",
      "Number of samples for Train set : 155\n",
      "Number of samples for Validation set : 39\n",
      "Number of samples for Test set : 22\n"
     ]
    }
   ],
   "source": [
    "xtrainval, xtest, ytrainval, ytest = train_test_split(x, y, test_size=0.1, stratify=y, random_state=42)\n",
    "xtrain, xvalid, ytrain, yvalid = train_test_split(xtrainval, ytrainval, test_size=0.2, stratify=ytrainval,random_state=42)\n",
    "\n",
    "print('\\nNumber of samples for Train set :',xtrain.shape[0])\n",
    "print('Number of samples for Validation set :',xvalid.shape[0])\n",
    "print('Number of samples for Test set :',xtest.shape[0])"
   ]
  },
  {
   "cell_type": "code",
   "execution_count": 9,
   "metadata": {},
   "outputs": [
    {
     "name": "stdout",
     "output_type": "stream",
     "text": [
      "Model: \"sequential\"\n",
      "_________________________________________________________________\n",
      "Layer (type)                 Output Shape              Param #   \n",
      "=================================================================\n",
      "dense (Dense)                (None, 1000)              129000    \n",
      "_________________________________________________________________\n",
      "dense_1 (Dense)              (None, 750)               750750    \n",
      "_________________________________________________________________\n",
      "dense_2 (Dense)              (None, 500)               375500    \n",
      "_________________________________________________________________\n",
      "dense_3 (Dense)              (None, 250)               125250    \n",
      "_________________________________________________________________\n",
      "dense_4 (Dense)              (None, 100)               25100     \n",
      "_________________________________________________________________\n",
      "dense_5 (Dense)              (None, 50)                5050      \n",
      "_________________________________________________________________\n",
      "dense_6 (Dense)              (None, 13)                663       \n",
      "=================================================================\n",
      "Total params: 1,411,313\n",
      "Trainable params: 1,411,313\n",
      "Non-trainable params: 0\n",
      "_________________________________________________________________\n"
     ]
    }
   ],
   "source": [
    "model = Sequential(\n",
    "    [\n",
    "        layers.Dense(1000, activation='relu', input_shape=(128,)),\n",
    "        layers.Dense(750, activation='relu'),\n",
    "        layers.Dense(500, activation='relu'),\n",
    "        layers.Dense(250, activation='relu'),\n",
    "        layers.Dense(100, activation='relu'),\n",
    "        layers.Dense(50, activation='relu'),\n",
    "        layers.Dense(13, activation='softmax')\n",
    "    ]\n",
    ")\n",
    "\n",
    "model.summary()"
   ]
  },
  {
   "cell_type": "code",
   "execution_count": 10,
   "metadata": {},
   "outputs": [
    {
     "name": "stdout",
     "output_type": "stream",
     "text": [
      "Epoch 1/20\n",
      "5/5 [==============================] - 2s 117ms/step - loss: 11.7424 - accuracy: 0.0323 - val_loss: 6.8804 - val_accuracy: 0.1026\n",
      "Epoch 2/20\n",
      "5/5 [==============================] - 0s 22ms/step - loss: 6.0526 - accuracy: 0.1097 - val_loss: 3.4225 - val_accuracy: 0.0769\n",
      "Epoch 3/20\n",
      "5/5 [==============================] - 0s 24ms/step - loss: 3.9220 - accuracy: 0.0839 - val_loss: 3.6667 - val_accuracy: 0.0769\n",
      "Epoch 4/20\n",
      "5/5 [==============================] - 0s 25ms/step - loss: 3.0573 - accuracy: 0.1355 - val_loss: 2.8120 - val_accuracy: 0.1282\n",
      "Epoch 5/20\n",
      "5/5 [==============================] - 0s 26ms/step - loss: 2.5169 - accuracy: 0.2065 - val_loss: 2.3253 - val_accuracy: 0.3077\n",
      "Epoch 6/20\n",
      "5/5 [==============================] - 0s 27ms/step - loss: 2.0536 - accuracy: 0.3419 - val_loss: 2.1347 - val_accuracy: 0.3077\n",
      "Epoch 7/20\n",
      "5/5 [==============================] - 0s 28ms/step - loss: 1.8091 - accuracy: 0.4000 - val_loss: 1.9501 - val_accuracy: 0.3846\n",
      "Epoch 8/20\n",
      "5/5 [==============================] - 0s 22ms/step - loss: 1.6915 - accuracy: 0.4903 - val_loss: 1.9353 - val_accuracy: 0.2051\n",
      "Epoch 9/20\n",
      "5/5 [==============================] - 0s 24ms/step - loss: 1.5527 - accuracy: 0.4710 - val_loss: 1.7727 - val_accuracy: 0.3846\n",
      "Epoch 10/20\n",
      "5/5 [==============================] - 0s 25ms/step - loss: 1.3668 - accuracy: 0.6000 - val_loss: 1.6485 - val_accuracy: 0.4359\n",
      "Epoch 11/20\n",
      "5/5 [==============================] - 0s 25ms/step - loss: 1.1993 - accuracy: 0.6452 - val_loss: 1.5453 - val_accuracy: 0.5641\n",
      "Epoch 12/20\n",
      "5/5 [==============================] - 0s 23ms/step - loss: 0.9927 - accuracy: 0.7290 - val_loss: 1.4045 - val_accuracy: 0.5897\n",
      "Epoch 13/20\n",
      "5/5 [==============================] - 0s 29ms/step - loss: 0.8677 - accuracy: 0.7548 - val_loss: 1.2381 - val_accuracy: 0.6410\n",
      "Epoch 14/20\n",
      "5/5 [==============================] - 0s 28ms/step - loss: 0.7382 - accuracy: 0.7935 - val_loss: 1.1895 - val_accuracy: 0.6410\n",
      "Epoch 15/20\n",
      "5/5 [==============================] - 0s 25ms/step - loss: 0.6026 - accuracy: 0.8645 - val_loss: 1.0410 - val_accuracy: 0.6923\n",
      "Epoch 16/20\n",
      "5/5 [==============================] - 0s 24ms/step - loss: 0.5000 - accuracy: 0.9097 - val_loss: 1.0671 - val_accuracy: 0.6923\n",
      "Epoch 17/20\n",
      "5/5 [==============================] - 0s 26ms/step - loss: 0.4266 - accuracy: 0.9097 - val_loss: 0.9494 - val_accuracy: 0.8205\n",
      "Epoch 18/20\n",
      "5/5 [==============================] - 0s 26ms/step - loss: 0.3522 - accuracy: 0.9355 - val_loss: 0.8614 - val_accuracy: 0.7436\n",
      "Epoch 19/20\n",
      "5/5 [==============================] - 0s 25ms/step - loss: 0.2911 - accuracy: 0.9419 - val_loss: 0.8362 - val_accuracy: 0.8205\n",
      "Epoch 20/20\n",
      "5/5 [==============================] - 0s 26ms/step - loss: 0.2404 - accuracy: 0.9806 - val_loss: 1.0166 - val_accuracy: 0.7692\n"
     ]
    }
   ],
   "source": [
    "model.compile(loss='categorical_crossentropy', optimizer='adam', metrics=['accuracy'])\n",
    "training = model.fit(xtrain, ytrain, validation_data=(xvalid, yvalid), epochs=20)"
   ]
  },
  {
   "cell_type": "code",
   "execution_count": 11,
   "metadata": {},
   "outputs": [
    {
     "data": {
      "text/html": [
       "<div>\n",
       "<style scoped>\n",
       "    .dataframe tbody tr th:only-of-type {\n",
       "        vertical-align: middle;\n",
       "    }\n",
       "\n",
       "    .dataframe tbody tr th {\n",
       "        vertical-align: top;\n",
       "    }\n",
       "\n",
       "    .dataframe thead th {\n",
       "        text-align: right;\n",
       "    }\n",
       "</style>\n",
       "<table border=\"1\" class=\"dataframe\">\n",
       "  <thead>\n",
       "    <tr style=\"text-align: right;\">\n",
       "      <th></th>\n",
       "      <th>loss</th>\n",
       "      <th>accuracy</th>\n",
       "      <th>val_loss</th>\n",
       "      <th>val_accuracy</th>\n",
       "    </tr>\n",
       "  </thead>\n",
       "  <tbody>\n",
       "    <tr>\n",
       "      <th>0</th>\n",
       "      <td>11.742425</td>\n",
       "      <td>0.032258</td>\n",
       "      <td>6.880420</td>\n",
       "      <td>0.102564</td>\n",
       "    </tr>\n",
       "    <tr>\n",
       "      <th>1</th>\n",
       "      <td>6.052564</td>\n",
       "      <td>0.109677</td>\n",
       "      <td>3.422511</td>\n",
       "      <td>0.076923</td>\n",
       "    </tr>\n",
       "    <tr>\n",
       "      <th>2</th>\n",
       "      <td>3.922002</td>\n",
       "      <td>0.083871</td>\n",
       "      <td>3.666661</td>\n",
       "      <td>0.076923</td>\n",
       "    </tr>\n",
       "    <tr>\n",
       "      <th>3</th>\n",
       "      <td>3.057277</td>\n",
       "      <td>0.135484</td>\n",
       "      <td>2.811985</td>\n",
       "      <td>0.128205</td>\n",
       "    </tr>\n",
       "    <tr>\n",
       "      <th>4</th>\n",
       "      <td>2.516865</td>\n",
       "      <td>0.206452</td>\n",
       "      <td>2.325304</td>\n",
       "      <td>0.307692</td>\n",
       "    </tr>\n",
       "    <tr>\n",
       "      <th>5</th>\n",
       "      <td>2.053635</td>\n",
       "      <td>0.341935</td>\n",
       "      <td>2.134706</td>\n",
       "      <td>0.307692</td>\n",
       "    </tr>\n",
       "    <tr>\n",
       "      <th>6</th>\n",
       "      <td>1.809131</td>\n",
       "      <td>0.400000</td>\n",
       "      <td>1.950091</td>\n",
       "      <td>0.384615</td>\n",
       "    </tr>\n",
       "    <tr>\n",
       "      <th>7</th>\n",
       "      <td>1.691482</td>\n",
       "      <td>0.490323</td>\n",
       "      <td>1.935267</td>\n",
       "      <td>0.205128</td>\n",
       "    </tr>\n",
       "    <tr>\n",
       "      <th>8</th>\n",
       "      <td>1.552731</td>\n",
       "      <td>0.470968</td>\n",
       "      <td>1.772660</td>\n",
       "      <td>0.384615</td>\n",
       "    </tr>\n",
       "    <tr>\n",
       "      <th>9</th>\n",
       "      <td>1.366763</td>\n",
       "      <td>0.600000</td>\n",
       "      <td>1.648530</td>\n",
       "      <td>0.435897</td>\n",
       "    </tr>\n",
       "    <tr>\n",
       "      <th>10</th>\n",
       "      <td>1.199316</td>\n",
       "      <td>0.645161</td>\n",
       "      <td>1.545313</td>\n",
       "      <td>0.564103</td>\n",
       "    </tr>\n",
       "    <tr>\n",
       "      <th>11</th>\n",
       "      <td>0.992657</td>\n",
       "      <td>0.729032</td>\n",
       "      <td>1.404533</td>\n",
       "      <td>0.589744</td>\n",
       "    </tr>\n",
       "    <tr>\n",
       "      <th>12</th>\n",
       "      <td>0.867726</td>\n",
       "      <td>0.754839</td>\n",
       "      <td>1.238102</td>\n",
       "      <td>0.641026</td>\n",
       "    </tr>\n",
       "    <tr>\n",
       "      <th>13</th>\n",
       "      <td>0.738175</td>\n",
       "      <td>0.793548</td>\n",
       "      <td>1.189511</td>\n",
       "      <td>0.641026</td>\n",
       "    </tr>\n",
       "    <tr>\n",
       "      <th>14</th>\n",
       "      <td>0.602566</td>\n",
       "      <td>0.864516</td>\n",
       "      <td>1.041044</td>\n",
       "      <td>0.692308</td>\n",
       "    </tr>\n",
       "    <tr>\n",
       "      <th>15</th>\n",
       "      <td>0.500041</td>\n",
       "      <td>0.909677</td>\n",
       "      <td>1.067095</td>\n",
       "      <td>0.692308</td>\n",
       "    </tr>\n",
       "    <tr>\n",
       "      <th>16</th>\n",
       "      <td>0.426610</td>\n",
       "      <td>0.909677</td>\n",
       "      <td>0.949384</td>\n",
       "      <td>0.820513</td>\n",
       "    </tr>\n",
       "    <tr>\n",
       "      <th>17</th>\n",
       "      <td>0.352178</td>\n",
       "      <td>0.935484</td>\n",
       "      <td>0.861409</td>\n",
       "      <td>0.743590</td>\n",
       "    </tr>\n",
       "    <tr>\n",
       "      <th>18</th>\n",
       "      <td>0.291108</td>\n",
       "      <td>0.941935</td>\n",
       "      <td>0.836229</td>\n",
       "      <td>0.820513</td>\n",
       "    </tr>\n",
       "    <tr>\n",
       "      <th>19</th>\n",
       "      <td>0.240372</td>\n",
       "      <td>0.980645</td>\n",
       "      <td>1.016597</td>\n",
       "      <td>0.769231</td>\n",
       "    </tr>\n",
       "  </tbody>\n",
       "</table>\n",
       "</div>"
      ],
      "text/plain": [
       "         loss  accuracy  val_loss  val_accuracy\n",
       "0   11.742425  0.032258  6.880420      0.102564\n",
       "1    6.052564  0.109677  3.422511      0.076923\n",
       "2    3.922002  0.083871  3.666661      0.076923\n",
       "3    3.057277  0.135484  2.811985      0.128205\n",
       "4    2.516865  0.206452  2.325304      0.307692\n",
       "5    2.053635  0.341935  2.134706      0.307692\n",
       "6    1.809131  0.400000  1.950091      0.384615\n",
       "7    1.691482  0.490323  1.935267      0.205128\n",
       "8    1.552731  0.470968  1.772660      0.384615\n",
       "9    1.366763  0.600000  1.648530      0.435897\n",
       "10   1.199316  0.645161  1.545313      0.564103\n",
       "11   0.992657  0.729032  1.404533      0.589744\n",
       "12   0.867726  0.754839  1.238102      0.641026\n",
       "13   0.738175  0.793548  1.189511      0.641026\n",
       "14   0.602566  0.864516  1.041044      0.692308\n",
       "15   0.500041  0.909677  1.067095      0.692308\n",
       "16   0.426610  0.909677  0.949384      0.820513\n",
       "17   0.352178  0.935484  0.861409      0.743590\n",
       "18   0.291108  0.941935  0.836229      0.820513\n",
       "19   0.240372  0.980645  1.016597      0.769231"
      ]
     },
     "execution_count": 11,
     "metadata": {},
     "output_type": "execute_result"
    }
   ],
   "source": [
    "train_hist = pd.DataFrame(training.history)\n",
    "train_hist"
   ]
  },
  {
   "cell_type": "code",
   "execution_count": 12,
   "metadata": {},
   "outputs": [
    {
     "data": {
      "image/png": "[encoded data removed]",
      "text/plain": [
       "<Figure size 1440x576 with 1 Axes>"
      ]
     },
     "metadata": {
      "needs_background": "light"
     },
     "output_type": "display_data"
    },
    {
     "data": {
      "image/png": "[encoded data removed]",
      "text/plain": [
       "<Figure size 1440x576 with 1 Axes>"
      ]
     },
     "metadata": {
      "needs_background": "light"
     },
     "output_type": "display_data"
    }
   ],
   "source": [
    "plt.figure(figsize=(20, 8))\n",
    "plt.plot(train_hist[['loss', 'val_loss']])\n",
    "plt.legend(['loss', 'val_loss'])\n",
    "plt.title('Loss per Epochs')\n",
    "plt.xlabel('Epochs')\n",
    "plt.ylabel('Loss')\n",
    "plt.show()\n",
    "\n",
    "plt.figure(figsize=(20, 8))\n",
    "plt.plot(train_hist[['accuracy', 'val_accuracy']])\n",
    "plt.legend(['accuracy', 'val_accuracy'])\n",
    "plt.title('Accuracy per Epochs')\n",
    "plt.xlabel('Epochs')\n",
    "plt.ylabel('Accuracy')\n",
    "plt.show()"
   ]
  },
  {
   "cell_type": "code",
   "execution_count": null,
   "metadata": {},
   "outputs": [],
   "source": [
    "ytrue = np.argmax(ytest, axis=1)"
   ]
  }
 ],
 "metadata": {
  "interpreter": {
   "hash": "745580af149099085c602309336f96fdb3d04063157b41704fe01950326166b1"
  },
  "kernelspec": {
   "display_name": "Python 3.8.8 ('base')",
   "language": "python",
   "name": "python3"
  },
  "language_info": {
   "codemirror_mode": {
    "name": "ipython",
    "version": 3
   },
   "file_extension": ".py",
   "mimetype": "text/x-python",
   "name": "python",
   "nbconvert_exporter": "python",
   "pygments_lexer": "ipython3",
   "version": "3.8.8"
  },
  "orig_nbformat": 4
 },
 "nbformat": 4,
 "nbformat_minor": 2
}
