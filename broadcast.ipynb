{
 "cells": [
  {
   "cell_type": "code",
   "execution_count": null,
   "metadata": {},
   "outputs": [],
   "source": [
    "import pyaudio\n",
    "import numpy as np\n",
    "from IPython.display import clear_output\n",
    " \n",
    "CHUNK = 4096 # number of data points to read at a time\n",
    "RATE = 44100 # time resolution of the recording device (Hz)\n",
    "#DEVICE = 0 # default\n",
    " \n",
    "p = pyaudio.PyAudio()\n",
    " \n",
    "stream=p.open(format=pyaudio.paInt16,\n",
    "              channels=2,\n",
    "              rate=RATE,\n",
    "              input=True,\n",
    "              frames_per_buffer=CHUNK)\n",
    "\n",
    "to_plot = []\n",
    " \n",
    "while True:\n",
    "    indata = np.fromstring(stream.read(CHUNK),dtype=np.int16)\n",
    " \n",
    "    # Take the fft and square each value\n",
    "    fftData=abs(np.fft.rfft(indata))**2\n",
    "    # find the maximum\n",
    "    to_plot.append(np.log(fftData)\n",
    "    which = fftData[1:].argmax() + 1\n",
    "    # use quadratic interpolation around the max\n",
    "    print(which)\n",
    "    \n",
    "clear_output()"
   ]
  }
 ],
 "metadata": {
  "interpreter": {
   "hash": "745580af149099085c602309336f96fdb3d04063157b41704fe01950326166b1"
  },
  "kernelspec": {
   "display_name": "Python 3.8.8 ('base')",
   "language": "python",
   "name": "python3"
  },
  "language_info": {
   "codemirror_mode": {
    "name": "ipython",
    "version": 3
   },
   "file_extension": ".py",
   "mimetype": "text/x-python",
   "name": "python",
   "nbconvert_exporter": "python",
   "pygments_lexer": "ipython3",
   "version": "3.8.8"
  },
  "orig_nbformat": 4
 },
 "nbformat": 4,
 "nbformat_minor": 2
}
