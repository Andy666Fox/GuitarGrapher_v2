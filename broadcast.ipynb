{
 "cells": [
  {
   "cell_type": "markdown",
   "metadata": {},
   "source": [
    "# Imports"
   ]
  },
  {
   "cell_type": "code",
   "execution_count": 7,
   "metadata": {},
   "outputs": [],
   "source": [
    "import pyaudio\n",
    "import numpy as np\n",
    "from IPython.display import clear_output\n",
    "from w_model import AModel, feature_exctractor"
   ]
  },
  {
   "cell_type": "markdown",
   "metadata": {},
   "source": [
    "# Script for working with a microphone in real time"
   ]
  },
  {
   "cell_type": "code",
   "execution_count": 8,
   "metadata": {},
   "outputs": [
    {
     "name": "stderr",
     "output_type": "stream",
     "text": [
      "C:\\Users\\GODOVO~1\\AppData\\Local\\Temp/ipykernel_1196/3106937603.py:22: DeprecationWarning: The binary mode of fromstring is deprecated, as it behaves surprisingly on unicode inputs. Use frombuffer instead\n",
      "  indata = np.fromstring(stream.read(CHUNK),dtype=np.int32)\n"
     ]
    },
    {
     "name": "stdout",
     "output_type": "stream",
     "text": [
      "Barrel\n",
      "Barrel\n",
      "Barrel\n"
     ]
    },
    {
     "name": "stderr",
     "output_type": "stream",
     "text": [
      "C:\\Users\\GODOVO~1\\AppData\\Local\\Temp/ipykernel_1196/3106937603.py:35: RuntimeWarning: divide by zero encountered in log\n",
      "  to_predict = feature_exctractor(np.log(fftData[1:]))\n"
     ]
    },
    {
     "name": "stdout",
     "output_type": "stream",
     "text": [
      "Barrel\n",
      "Barrel\n",
      "Barrel\n",
      "Barrel\n",
      "Barrel\n",
      "Barrel\n",
      "Barrel\n",
      "Barrel\n",
      "Barrel\n",
      "Barrel\n",
      "Barrel\n",
      "Barrel\n",
      "Barrel\n",
      "Barrel\n",
      "Barrel\n",
      "Barrel\n",
      "Barrel\n",
      "Barrel\n",
      "Barrel\n",
      "Barrel\n",
      "Barrel\n",
      "Barrel\n",
      "Barrel\n",
      "Barrel\n"
     ]
    }
   ],
   "source": [
    "CHUNK = 4096 # number of data points to read at a time\n",
    "RATE = 44100 # time resolution of the recording device (Hz)\n",
    "#DEVICE = 0 # default\n",
    " \n",
    "p = pyaudio.PyAudio()\n",
    "model = AModel()\n",
    " \n",
    "stream=p.open(format=pyaudio.paInt32,\n",
    "              channels=2,\n",
    "              rate=RATE,\n",
    "              input=True,\n",
    "              frames_per_buffer=CHUNK)\n",
    "\n",
    "# Optional list for plotting\n",
    "to_plot = []\n",
    "\n",
    "st = 0\n",
    "\n",
    "\n",
    "# Main Loop\n",
    "while st < 30:\n",
    "    indata = np.fromstring(stream.read(CHUNK),dtype=np.int32)\n",
    " \n",
    "    # Take the fft and square each value\n",
    "    fftData=abs(np.fft.rfft(indata))**2\n",
    "\n",
    "    to_plot.append(np.std(fftData))\n",
    "    which = fftData[1:].argmax() + 1\n",
    "    \n",
    "    if which < 8: # Cutting the silence\n",
    "        pass\n",
    "\n",
    "    else:\n",
    "        try:\n",
    "            to_predict = feature_exctractor(np.log(fftData[1:]))\n",
    "            res = model.dpredict(to_predict)\n",
    "\n",
    "            #clear_output()\n",
    "\n",
    "            print(res)\n",
    "        except:\n",
    "            pass\n",
    "    \n",
    "    st += 1"
   ]
  },
  {
   "cell_type": "code",
   "execution_count": 9,
   "metadata": {},
   "outputs": [
    {
     "data": {
      "text/plain": [
       "[<matplotlib.lines.Line2D at 0x1291893fe80>]"
      ]
     },
     "execution_count": 9,
     "metadata": {},
     "output_type": "execute_result"
    },
    {
     "data": {
      "image/png": "[encoded data removed]",
      "text/plain": [
       "<Figure size 432x288 with 1 Axes>"
      ]
     },
     "metadata": {
      "needs_background": "light"
     },
     "output_type": "display_data"
    }
   ],
   "source": [
    "import matplotlib.pyplot as plt \n",
    "\n",
    "plt.xlabel('Time (ms)')\n",
    "plt.ylabel('STD')\n",
    "plt.plot(to_plot)"
   ]
  },
  {
   "cell_type": "code",
   "execution_count": null,
   "metadata": {},
   "outputs": [],
   "source": []
  }
 ],
 "metadata": {
  "interpreter": {
   "hash": "745580af149099085c602309336f96fdb3d04063157b41704fe01950326166b1"
  },
  "kernelspec": {
   "display_name": "Python 3.8.8 ('base')",
   "language": "python",
   "name": "python3"
  },
  "language_info": {
   "codemirror_mode": {
    "name": "ipython",
    "version": 3
   },
   "file_extension": ".py",
   "mimetype": "text/x-python",
   "name": "python",
   "nbconvert_exporter": "python",
   "pygments_lexer": "ipython3",
   "version": "3.8.8"
  },
  "orig_nbformat": 4
 },
 "nbformat": 4,
 "nbformat_minor": 2
}
